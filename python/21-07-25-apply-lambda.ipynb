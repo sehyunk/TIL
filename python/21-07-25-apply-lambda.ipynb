{
 "cells": [
  {
   "cell_type": "markdown",
   "id": "977ee437",
   "metadata": {},
   "source": [
    "---\n",
    "layout: 'single'\n",
    "title:  '파이썬 apply와 lambda함수의 활용'\n",
    "categories:\n",
    "  - python\n",
    "---"
   ]
  },
  {
   "cell_type": "markdown",
   "id": "b923341a",
   "metadata": {},
   "source": [
    "## apply 함수\n",
    "- 시리즈에 함수를 적용시켜주는 함수\n",
    "- 시리즈.apply(함수)\n",
    "- for문으로 작성해야하는 코드를 더 간결하게 할 수 있게 해줍니다."
   ]
  },
  {
   "cell_type": "code",
   "execution_count": 49,
   "id": "030ad42b",
   "metadata": {},
   "outputs": [
    {
     "data": {
      "text/html": [
       "<div>\n",
       "<style scoped>\n",
       "    .dataframe tbody tr th:only-of-type {\n",
       "        vertical-align: middle;\n",
       "    }\n",
       "\n",
       "    .dataframe tbody tr th {\n",
       "        vertical-align: top;\n",
       "    }\n",
       "\n",
       "    .dataframe thead th {\n",
       "        text-align: right;\n",
       "    }\n",
       "</style>\n",
       "<table border=\"1\" class=\"dataframe\">\n",
       "  <thead>\n",
       "    <tr style=\"text-align: right;\">\n",
       "      <th></th>\n",
       "      <th>ID</th>\n",
       "      <th>shop_id</th>\n",
       "      <th>item_id</th>\n",
       "    </tr>\n",
       "  </thead>\n",
       "  <tbody>\n",
       "    <tr>\n",
       "      <th>0</th>\n",
       "      <td>0</td>\n",
       "      <td>5</td>\n",
       "      <td>5037</td>\n",
       "    </tr>\n",
       "    <tr>\n",
       "      <th>1</th>\n",
       "      <td>1</td>\n",
       "      <td>5</td>\n",
       "      <td>5320</td>\n",
       "    </tr>\n",
       "    <tr>\n",
       "      <th>2</th>\n",
       "      <td>2</td>\n",
       "      <td>5</td>\n",
       "      <td>5233</td>\n",
       "    </tr>\n",
       "    <tr>\n",
       "      <th>3</th>\n",
       "      <td>3</td>\n",
       "      <td>5</td>\n",
       "      <td>5232</td>\n",
       "    </tr>\n",
       "    <tr>\n",
       "      <th>4</th>\n",
       "      <td>4</td>\n",
       "      <td>5</td>\n",
       "      <td>5268</td>\n",
       "    </tr>\n",
       "    <tr>\n",
       "      <th>5</th>\n",
       "      <td>5</td>\n",
       "      <td>5</td>\n",
       "      <td>5039</td>\n",
       "    </tr>\n",
       "    <tr>\n",
       "      <th>6</th>\n",
       "      <td>6</td>\n",
       "      <td>5</td>\n",
       "      <td>5041</td>\n",
       "    </tr>\n",
       "    <tr>\n",
       "      <th>7</th>\n",
       "      <td>7</td>\n",
       "      <td>5</td>\n",
       "      <td>5046</td>\n",
       "    </tr>\n",
       "    <tr>\n",
       "      <th>8</th>\n",
       "      <td>8</td>\n",
       "      <td>5</td>\n",
       "      <td>5319</td>\n",
       "    </tr>\n",
       "    <tr>\n",
       "      <th>9</th>\n",
       "      <td>9</td>\n",
       "      <td>5</td>\n",
       "      <td>5003</td>\n",
       "    </tr>\n",
       "  </tbody>\n",
       "</table>\n",
       "</div>"
      ],
      "text/plain": [
       "   ID  shop_id  item_id\n",
       "0   0        5     5037\n",
       "1   1        5     5320\n",
       "2   2        5     5233\n",
       "3   3        5     5232\n",
       "4   4        5     5268\n",
       "5   5        5     5039\n",
       "6   6        5     5041\n",
       "7   7        5     5046\n",
       "8   8        5     5319\n",
       "9   9        5     5003"
      ]
     },
     "execution_count": 49,
     "metadata": {},
     "output_type": "execute_result"
    }
   ],
   "source": [
    "df = pd.read_csv('./datas/test.csv', nrows=10)\n",
    "df"
   ]
  },
  {
   "cell_type": "markdown",
   "id": "8960c354",
   "metadata": {},
   "source": [
    "\n",
    "조건이 없는 단순 연산일 경우 아래처럼 간단하게 함수 적용이 가능합니다.\n"
   ]
  },
  {
   "cell_type": "code",
   "execution_count": 51,
   "id": "cab175e1",
   "metadata": {},
   "outputs": [
    {
     "data": {
      "text/plain": [
       "0     0\n",
       "1     2\n",
       "2     4\n",
       "3     6\n",
       "4     8\n",
       "5    10\n",
       "6    12\n",
       "7    14\n",
       "8    16\n",
       "9    18\n",
       "Name: ID, dtype: int64"
      ]
     },
     "execution_count": 51,
     "metadata": {},
     "output_type": "execute_result"
    }
   ],
   "source": [
    "df['ID']*2"
   ]
  },
  {
   "cell_type": "code",
   "execution_count": 39,
   "id": "5f2d7fda",
   "metadata": {},
   "outputs": [
    {
     "data": {
      "text/plain": [
       "0     0\n",
       "1     2\n",
       "2     4\n",
       "3     6\n",
       "4     8\n",
       "5    10\n",
       "6    12\n",
       "7    14\n",
       "8    16\n",
       "9    18\n",
       "Name: ID, dtype: int64"
      ]
     },
     "execution_count": 39,
     "metadata": {},
     "output_type": "execute_result"
    }
   ],
   "source": [
    "def multi_two(x):\n",
    "    return x*2\n",
    "\n",
    "multi_two(df['ID'])"
   ]
  },
  {
   "cell_type": "markdown",
   "id": "7a245daa",
   "metadata": {},
   "source": [
    "같은 연산을 apply로도 가능합니다."
   ]
  },
  {
   "cell_type": "code",
   "execution_count": 40,
   "id": "ea5b2376",
   "metadata": {},
   "outputs": [
    {
     "data": {
      "text/plain": [
       "0     0\n",
       "1     2\n",
       "2     4\n",
       "3     6\n",
       "4     8\n",
       "5    10\n",
       "6    12\n",
       "7    14\n",
       "8    16\n",
       "9    18\n",
       "Name: ID, dtype: int64"
      ]
     },
     "execution_count": 40,
     "metadata": {},
     "output_type": "execute_result"
    }
   ],
   "source": [
    "def multi_two(x):\n",
    "    return x*2\n",
    "\n",
    "df['ID'].apply(multi_two)"
   ]
  },
  {
   "cell_type": "markdown",
   "id": "e5cd2fa0",
   "metadata": {},
   "source": [
    "하지만 조건부로 데이터에 연산을 적용할 경우, for문이라 apply가 꼭 필요합니다.\n",
    "데이터 프레임에 인덱스가 짝수일 경우 아이디에 2를 곱해주는 코드를 작성해봅니다."
   ]
  },
  {
   "cell_type": "code",
   "execution_count": 52,
   "id": "c8142376",
   "metadata": {},
   "outputs": [
    {
     "data": {
      "text/plain": [
       "0     0\n",
       "1     1\n",
       "2     4\n",
       "3     3\n",
       "4     8\n",
       "5     5\n",
       "6    12\n",
       "7     7\n",
       "8    16\n",
       "9     9\n",
       "Name: ID, dtype: int64"
      ]
     },
     "execution_count": 52,
     "metadata": {},
     "output_type": "execute_result"
    }
   ],
   "source": [
    "df = pd.read_csv('./datas/test.csv', nrows=10)\n",
    "\n",
    "for i in df.index:\n",
    "    if i%2 == 0:\n",
    "        df.loc[i,'ID'] = df.loc[i,'ID'] *2\n",
    "df['ID']"
   ]
  },
  {
   "cell_type": "markdown",
   "id": "f968e2cd",
   "metadata": {},
   "source": [
    "apply와 lambda함수를 이용하면 더 간단하게 할 수 있습니다."
   ]
  },
  {
   "cell_type": "code",
   "execution_count": 54,
   "id": "8ca13666",
   "metadata": {},
   "outputs": [
    {
     "data": {
      "text/plain": [
       "0     0\n",
       "1     1\n",
       "2     4\n",
       "3     3\n",
       "4     8\n",
       "5     5\n",
       "6    12\n",
       "7     7\n",
       "8    16\n",
       "9     9\n",
       "Name: ID, dtype: int64"
      ]
     },
     "execution_count": 54,
     "metadata": {},
     "output_type": "execute_result"
    }
   ],
   "source": [
    "df = pd.read_csv('./datas/test.csv', nrows=10)\n",
    "\n",
    "df['ID'].apply(lambda x: x*2 if x%2==0 else x)"
   ]
  }
 ],
 "metadata": {
  "kernelspec": {
   "display_name": "Python 3",
   "language": "python",
   "name": "python3"
  },
  "language_info": {
   "codemirror_mode": {
    "name": "ipython",
    "version": 3
   },
   "file_extension": ".py",
   "mimetype": "text/x-python",
   "name": "python",
   "nbconvert_exporter": "python",
   "pygments_lexer": "ipython3",
   "version": "3.8.8"
  }
 },
 "nbformat": 4,
 "nbformat_minor": 5
}
