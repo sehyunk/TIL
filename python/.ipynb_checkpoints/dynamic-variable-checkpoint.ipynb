{
 "cells": [
  {
   "cell_type": "markdown",
   "id": "ea4b2b8e",
   "metadata": {},
   "source": [
    "# 동적 변수 선언\n",
    "\n",
    "반복문으로 규칙에 따라 변수를 선언해야할 때 사용한다.\n",
    "시도명에따라 데이터 프레임을 df_{시도명}으로 할당할 때 사용했음\n",
    "\n",
    "### Ref\n",
    "https://stackoverflow.com/questions/5036700/how-can-you-dynamically-create-variables-via-a-while-loop"
   ]
  },
  {
   "cell_type": "code",
   "execution_count": 4,
   "id": "07ef8657",
   "metadata": {},
   "outputs": [
    {
     "name": "stdout",
     "output_type": "stream",
     "text": [
      "1\n",
      "2\n",
      "3\n",
      "4\n",
      "5\n",
      "6\n",
      "7\n",
      "8\n",
      "9\n",
      "10\n"
     ]
    }
   ],
   "source": [
    "\n",
    "for i in range(1,11):\n",
    "    globals()[f\"my_varivble_{i}\"] = i\n",
    "    print(globals()[f\"my_varivble_{i}\"])"
   ]
  },
  {
   "cell_type": "code",
   "execution_count": 6,
   "id": "44af1587",
   "metadata": {},
   "outputs": [
    {
     "data": {
      "text/plain": [
       "(5, 10)"
      ]
     },
     "execution_count": 6,
     "metadata": {},
     "output_type": "execute_result"
    }
   ],
   "source": [
    "my_varivble_5, my_varivble_10"
   ]
  }
 ],
 "metadata": {
  "kernelspec": {
   "display_name": "Python 3",
   "language": "python",
   "name": "python3"
  },
  "language_info": {
   "codemirror_mode": {
    "name": "ipython",
    "version": 3
   },
   "file_extension": ".py",
   "mimetype": "text/x-python",
   "name": "python",
   "nbconvert_exporter": "python",
   "pygments_lexer": "ipython3",
   "version": "3.8.8"
  }
 },
 "nbformat": 4,
 "nbformat_minor": 5
}
