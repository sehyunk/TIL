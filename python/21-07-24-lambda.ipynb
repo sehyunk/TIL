{
 "cells": [
  {
   "cell_type": "markdown",
   "id": "977ee437",
   "metadata": {},
   "source": [
    "---\n",
    "layout: 'single'\n",
    "title:  '파이썬 map과 lambda함수의 활용'\n",
    "categories:\n",
    "  - python\n",
    "---"
   ]
  },
  {
   "cell_type": "markdown",
   "id": "b923341a",
   "metadata": {},
   "source": [
    "## map 함수\n",
    "- 리스트나 튜플 등 여러 데이터에 돌아가며 함수를 적용시켜주는 함수\n",
    "- map(함수, 복수개의 데이터(리스트, 튜플 등) )\n",
    "- for문으로 작성해야하는 코드를 더 간결하게 할 수 있게 해줍니다.\n",
    "\n",
    "for문으로 리스트 각 요소에 1씩 더해주는 코드를 작성해봅니다."
   ]
  },
  {
   "cell_type": "code",
   "execution_count": 57,
   "id": "b587b2c3",
   "metadata": {},
   "outputs": [
    {
     "data": {
      "text/plain": [
       "[2, 3, 4, 5, 6, 7, 8, 9, 10, 11]"
      ]
     },
     "execution_count": 57,
     "metadata": {},
     "output_type": "execute_result"
    }
   ],
   "source": [
    "def add_one(x):\n",
    "    return x + 1\n",
    "\n",
    "ls = []\n",
    "for i in range(1,11):\n",
    "    ls.append(add_one(i))\n",
    "ls"
   ]
  },
  {
   "cell_type": "markdown",
   "id": "232613d1",
   "metadata": {},
   "source": [
    "아래처럼 map함수를 이용하여 더 간단하게 만들 수 있습니다."
   ]
  },
  {
   "cell_type": "code",
   "execution_count": 62,
   "id": "52962b33",
   "metadata": {},
   "outputs": [
    {
     "data": {
      "text/plain": [
       "[2, 3, 4, 5, 6, 7, 8, 9, 10, 11]"
      ]
     },
     "execution_count": 62,
     "metadata": {},
     "output_type": "execute_result"
    }
   ],
   "source": [
    "def add_one(x):\n",
    "    return x + 1\n",
    "\n",
    "list(map(add_one,range(1,11)))"
   ]
  },
  {
   "cell_type": "markdown",
   "id": "a59163c9",
   "metadata": {},
   "source": [
    "안타깝게도 아래처럼 x를 넣은 연산을 할 수 없습니다.\n",
    "미리 정의된 함수만 인자로 넣을 수 있습니다."
   ]
  },
  {
   "cell_type": "code",
   "execution_count": 63,
   "id": "efa4b072",
   "metadata": {},
   "outputs": [
    {
     "ename": "NameError",
     "evalue": "name 'x' is not defined",
     "output_type": "error",
     "traceback": [
      "\u001b[0;31m---------------------------------------------------------------------------\u001b[0m",
      "\u001b[0;31mNameError\u001b[0m                                 Traceback (most recent call last)",
      "\u001b[0;32m<ipython-input-63-d5e223f442ab>\u001b[0m in \u001b[0;36m<module>\u001b[0;34m\u001b[0m\n\u001b[0;32m----> 1\u001b[0;31m \u001b[0mlist\u001b[0m\u001b[0;34m(\u001b[0m\u001b[0mmap\u001b[0m\u001b[0;34m(\u001b[0m\u001b[0mx\u001b[0m \u001b[0;34m+\u001b[0m \u001b[0;36m1\u001b[0m\u001b[0;34m,\u001b[0m\u001b[0mrange\u001b[0m\u001b[0;34m(\u001b[0m\u001b[0;36m1\u001b[0m\u001b[0;34m,\u001b[0m\u001b[0;36m11\u001b[0m\u001b[0;34m)\u001b[0m\u001b[0;34m)\u001b[0m\u001b[0;34m)\u001b[0m\u001b[0;34m\u001b[0m\u001b[0;34m\u001b[0m\u001b[0m\n\u001b[0m",
      "\u001b[0;31mNameError\u001b[0m: name 'x' is not defined"
     ]
    }
   ],
   "source": [
    "list(map(x + 1,range(1,11)))"
   ]
  },
  {
   "cell_type": "markdown",
   "id": "3d9db54d",
   "metadata": {},
   "source": [
    "람다 함수를 같이 사용하면 x를 넣은 연산을 적용할 수 있어 더욱 편리합니다.\n",
    "\n",
    "## lambda 함수\n",
    "- 함수를 정의하지 않고 만들어 사용할 수 있습니다.\n",
    "- (lambda 매개변수 : 결과값)\n",
    "- 코드가 더 간결해지고 메모리를 절약할 수 있습니다.\n",
    "\n",
    "1을 더하는 함수 add_one을 def로 만들어봅니다."
   ]
  },
  {
   "cell_type": "code",
   "execution_count": 66,
   "id": "54c8422a",
   "metadata": {},
   "outputs": [
    {
     "data": {
      "text/plain": [
       "4"
      ]
     },
     "execution_count": 66,
     "metadata": {},
     "output_type": "execute_result"
    }
   ],
   "source": [
    "def add_one(x):\n",
    "    return x + 1\n",
    "\n",
    "add_one(3)"
   ]
  },
  {
   "cell_type": "markdown",
   "id": "0ef90116",
   "metadata": {},
   "source": [
    "람다 함수를 이용하면 함수생성없이 아래처럼 만들 수 있습니다."
   ]
  },
  {
   "cell_type": "code",
   "execution_count": 67,
   "id": "bbf46ba7",
   "metadata": {},
   "outputs": [
    {
     "data": {
      "text/plain": [
       "4"
      ]
     },
     "execution_count": 67,
     "metadata": {},
     "output_type": "execute_result"
    }
   ],
   "source": [
    "(lambda x : x+1)(3)"
   ]
  },
  {
   "cell_type": "markdown",
   "id": "9ec9bec4",
   "metadata": {},
   "source": [
    "## map과 lambda의 활용\n",
    "- map과 lambda를 같이 활용하면 리스트에 원하는 수식을 편하게 적용할 수 있습니다.\n",
    "\n",
    "def와 for문을 이용해 리스트의 모든 요소에 1을 더해 출력해봅니다."
   ]
  },
  {
   "cell_type": "code",
   "execution_count": 71,
   "id": "4c25d388",
   "metadata": {},
   "outputs": [
    {
     "data": {
      "text/plain": [
       "[2, 3, 4, 5, 6, 7, 8, 9, 10, 11]"
      ]
     },
     "execution_count": 71,
     "metadata": {},
     "output_type": "execute_result"
    }
   ],
   "source": [
    "def add_one(x):\n",
    "    return x + 1\n",
    "\n",
    "ls = []\n",
    "for i in range(1,11):\n",
    "    ls.append(i+1)\n",
    "ls"
   ]
  },
  {
   "cell_type": "markdown",
   "id": "b314e034",
   "metadata": {},
   "source": [
    "map과 lambda를 이용하면 아래처럼 간단하게 표현 가능합니다."
   ]
  },
  {
   "cell_type": "code",
   "execution_count": 73,
   "id": "2a70da8d",
   "metadata": {},
   "outputs": [
    {
     "data": {
      "text/plain": [
       "[2, 3, 4, 5, 6, 7, 8, 9, 10, 11]"
      ]
     },
     "execution_count": 73,
     "metadata": {},
     "output_type": "execute_result"
    }
   ],
   "source": [
    "list(map(lambda x: x+1, range(1,11)))"
   ]
  }
 ],
 "metadata": {
  "kernelspec": {
   "display_name": "Python 3",
   "language": "python",
   "name": "python3"
  },
  "language_info": {
   "codemirror_mode": {
    "name": "ipython",
    "version": 3
   },
   "file_extension": ".py",
   "mimetype": "text/x-python",
   "name": "python",
   "nbconvert_exporter": "python",
   "pygments_lexer": "ipython3",
   "version": "3.8.8"
  }
 },
 "nbformat": 4,
 "nbformat_minor": 5
}
