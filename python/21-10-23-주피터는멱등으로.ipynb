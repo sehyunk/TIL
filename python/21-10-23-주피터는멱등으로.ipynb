{
 "cells": [
  {
   "cell_type": "markdown",
   "id": "c292aebf",
   "metadata": {},
   "source": [
    "# 주피터는멱등으로\n",
    "\n",
    "주피터를 '멱등'으로 작성하면 오류를 더 쉽게 수정할 수 있다.\n",
    "\n",
    "'연산을 여러 번 적용하더라도 결과가 달라지지 않는 성질'을 멱등이라 한다.\n",
    "\n",
    "아래 코드는 멱등이다."
   ]
  },
  {
   "cell_type": "code",
   "execution_count": 9,
   "id": "3943a85d",
   "metadata": {},
   "outputs": [
    {
     "data": {
      "text/plain": [
       "['a', 'b', 'c']"
      ]
     },
     "execution_count": 9,
     "metadata": {},
     "output_type": "execute_result"
    }
   ],
   "source": [
    "my_list = ['a','b','c']\n",
    "my_list"
   ]
  },
  {
   "cell_type": "markdown",
   "id": "924e06b7",
   "metadata": {},
   "source": [
    "아래처럼 작성하면 멱등이 아니다.\n",
    "\n",
    "다시 실행시킬 때마다 원소가 계속 추가된다."
   ]
  },
  {
   "cell_type": "code",
   "execution_count": 16,
   "id": "e0b4e711",
   "metadata": {},
   "outputs": [
    {
     "data": {
      "text/plain": [
       "['a', 'b', 'c', 'd', 'd', 'd', 'd', 'd', 'd', 'd']"
      ]
     },
     "execution_count": 16,
     "metadata": {},
     "output_type": "execute_result"
    }
   ],
   "source": [
    "my_list.append('d')\n",
    "my_list"
   ]
  },
  {
   "cell_type": "markdown",
   "id": "7efc7da5",
   "metadata": {},
   "source": [
    "아래처럼 작성하면 다시 '멱등'상태를 만들 수 있다.\n",
    "\n",
    "다시 실행시켜도 결과값은 항상 같다."
   ]
  },
  {
   "cell_type": "code",
   "execution_count": 26,
   "id": "273d57d8",
   "metadata": {},
   "outputs": [
    {
     "data": {
      "text/plain": [
       "['a', 'b', 'c', 'd']"
      ]
     },
     "execution_count": 26,
     "metadata": {},
     "output_type": "execute_result"
    }
   ],
   "source": [
    "my_list = ['a','b','c']\n",
    "my_list.append('d')\n",
    "my_list"
   ]
  },
  {
   "cell_type": "markdown",
   "id": "180efee6",
   "metadata": {},
   "source": [
    "위처럼 셀의 '멱등'상태를 신경써서 작성하면 오류 수정 시 수정이 간편해진다."
   ]
  }
 ],
 "metadata": {
  "kernelspec": {
   "display_name": "Python 3",
   "language": "python",
   "name": "python3"
  },
  "language_info": {
   "codemirror_mode": {
    "name": "ipython",
    "version": 3
   },
   "file_extension": ".py",
   "mimetype": "text/x-python",
   "name": "python",
   "nbconvert_exporter": "python",
   "pygments_lexer": "ipython3",
   "version": "3.8.8"
  },
  "toc": {
   "base_numbering": 1,
   "nav_menu": {},
   "number_sections": true,
   "sideBar": true,
   "skip_h1_title": false,
   "title_cell": "Table of Contents",
   "title_sidebar": "Contents",
   "toc_cell": false,
   "toc_position": {},
   "toc_section_display": true,
   "toc_window_display": false
  },
  "varInspector": {
   "cols": {
    "lenName": 16,
    "lenType": 16,
    "lenVar": 40
   },
   "kernels_config": {
    "python": {
     "delete_cmd_postfix": "",
     "delete_cmd_prefix": "del ",
     "library": "var_list.py",
     "varRefreshCmd": "print(var_dic_list())"
    },
    "r": {
     "delete_cmd_postfix": ") ",
     "delete_cmd_prefix": "rm(",
     "library": "var_list.r",
     "varRefreshCmd": "cat(var_dic_list()) "
    }
   },
   "types_to_exclude": [
    "module",
    "function",
    "builtin_function_or_method",
    "instance",
    "_Feature"
   ],
   "window_display": false
  }
 },
 "nbformat": 4,
 "nbformat_minor": 5
}
