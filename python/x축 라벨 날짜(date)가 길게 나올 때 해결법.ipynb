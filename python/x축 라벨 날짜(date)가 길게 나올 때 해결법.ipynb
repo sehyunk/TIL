{
 "cells": [
  {
   "cell_type": "markdown",
   "id": "9d6f83c0",
   "metadata": {},
   "source": [
    "- x축을 날짜로 그래프를 그릴 때 datetime의 끝부분까지 날짜가 모두 노출되는 경우가 있다.\n",
    "- 데이터프레임을 확인해보면 `%Y-%m-%d` 포멧이다."
   ]
  },
  {
   "cell_type": "code",
   "execution_count": null,
   "id": "9855e280",
   "metadata": {},
   "outputs": [],
   "source": [
    "plt.figure(figsize = (10,5))\n",
    "sns.barplot(data = df, x = 'date', y = 'sales', hue = 'category', ci = False)"
   ]
  },
  {
   "cell_type": "markdown",
   "id": "70722b8b",
   "metadata": {},
   "source": [
    "![문제](./images/xticks1.png)"
   ]
  },
  {
   "cell_type": "code",
   "execution_count": null,
   "id": "b3f8d373",
   "metadata": {},
   "outputs": [],
   "source": [
    "plt.figure(figsize = (10,5))\n",
    "# 플롯을 g에 할당해준다.\n",
    "g = sns.barplot(data = df, x = 'date', y = 'sales', hue = 'category', ci = False)\n",
    "\n",
    "# xticklabels 가져와서 T로 나눠 앞 요소만 출력하는 반복문 실행\n",
    "g.set_xticklabels([date_text.get_text().split(\"T\")[0] for date_text in g.get_xticklabels()])\n"
   ]
  },
  {
   "cell_type": "markdown",
   "id": "b5387d80",
   "metadata": {},
   "source": [
    "![해결](./images/xticks2.png)"
   ]
  },
  {
   "cell_type": "markdown",
   "id": "335f973f",
   "metadata": {},
   "source": [
    "### 참고링크\n",
    "https://stackoverflow.com/questions/62480198/date-format-changed-using-seaborn-pointplot"
   ]
  }
 ],
 "metadata": {
  "kernelspec": {
   "display_name": "Python 3",
   "language": "python",
   "name": "python3"
  },
  "language_info": {
   "codemirror_mode": {
    "name": "ipython",
    "version": 3
   },
   "file_extension": ".py",
   "mimetype": "text/x-python",
   "name": "python",
   "nbconvert_exporter": "python",
   "pygments_lexer": "ipython3",
   "version": "3.8.8"
  }
 },
 "nbformat": 4,
 "nbformat_minor": 5
}
