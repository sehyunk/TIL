{
 "cells": [
  {
   "cell_type": "markdown",
   "id": "b8b52a2c",
   "metadata": {},
   "source": [
    "# 리퀘스트와 뷰티풀수프로 데이터 스크래핑\n"
   ]
  },
  {
   "cell_type": "code",
   "execution_count": 1,
   "id": "9be21bf7",
   "metadata": {},
   "outputs": [],
   "source": [
    "import requests\n",
    "from bs4 import BeautifulSoup as bs"
   ]
  },
  {
   "cell_type": "code",
   "execution_count": 13,
   "id": "f907e1b0",
   "metadata": {},
   "outputs": [],
   "source": [
    "# 스크래핑할 url, page 별로 url이 구분된 경우 url에 변수를 넣고 반복문을 돌리면 된다.\n",
    "url = 'https://finance.naver.com/sise/sise_group.nhn?type=upjong'\n",
    "\n",
    "# http get request\n",
    "req = requests.get(url)\n",
    "# html 소스 가져오기\n",
    "html = req.text\n",
    "# 인자1: html소스코드, 인자2: parser 종류\n",
    "soup = bs(html, 'lxml')"
   ]
  },
  {
   "cell_type": "markdown",
   "id": "d67f6991",
   "metadata": {},
   "source": [
    "## parser 어떤거 써야하나\n",
    "- 여러 가이드를 찾아보니 html.parser 파서를 사용하라는 곳도 보이고 , lxml파서를 사용하라는 곳도 보였다.\n",
    "- lxml파서가 속도가 더 빠르다고하여 lxml을 사용\n",
    "\n",
    "## ref\n",
    "- https://brownbears.tistory.com/414\n",
    "- lxml의 단점이 추가설치를 해야한다고 하는데, 추가설치 없이 잘 작동하였다."
   ]
  },
  {
   "cell_type": "code",
   "execution_count": 16,
   "id": "c8dac6d8",
   "metadata": {
    "scrolled": true
   },
   "outputs": [
    {
     "data": {
      "text/plain": [
       "[<a href=\"/sise/sise_group_detail.nhn?type=upjong&amp;no=316\">건강관리업체및서비스</a>,\n",
       " <a href=\"/sise/sise_group_detail.nhn?type=upjong&amp;no=320\">건축제품</a>,\n",
       " <a href=\"/sise/sise_group_detail.nhn?type=upjong&amp;no=287\">소프트웨어</a>,\n",
       " <a href=\"/sise/sise_group_detail.nhn?type=upjong&amp;no=262\">생명과학도구및서비스</a>,\n",
       " <a href=\"/sise/sise_group_detail.nhn?type=upjong&amp;no=283\">전기제품</a>,\n",
       " <a href=\"/sise/sise_group_detail.nhn?type=upjong&amp;no=263\">게임엔터테인먼트</a>,\n",
       " <a href=\"/sise/sise_group_detail.nhn?type=upjong&amp;no=288\">건강관리기술</a>,\n",
       " <a href=\"/sise/sise_group_detail.nhn?type=upjong&amp;no=286\">생물공학</a>,\n",
       " <a href=\"/sise/sise_group_detail.nhn?type=upjong&amp;no=303\">가구</a>,\n",
       " <a href=\"/sise/sise_group_detail.nhn?type=upjong&amp;no=261\">제약</a>,\n",
       " <a href=\"/sise/sise_group_detail.nhn?type=upjong&amp;no=285\">방송과엔터테인먼트</a>,\n",
       " <a href=\"/sise/sise_group_detail.nhn?type=upjong&amp;no=298\">가정용기기와용품</a>,\n",
       " <a href=\"/sise/sise_group_detail.nhn?type=upjong&amp;no=323\">해운사</a>,\n",
       " <a href=\"/sise/sise_group_detail.nhn?type=upjong&amp;no=281\">건강관리장비와용품</a>,\n",
       " <a href=\"/sise/sise_group_detail.nhn?type=upjong&amp;no=297\">가정용품</a>,\n",
       " <a href=\"/sise/sise_group_detail.nhn?type=upjong&amp;no=273\">자동차</a>,\n",
       " <a href=\"/sise/sise_group_detail.nhn?type=upjong&amp;no=334\">무역회사와판매업체</a>,\n",
       " <a href=\"/sise/sise_group_detail.nhn?type=upjong&amp;no=267\">IT서비스</a>,\n",
       " <a href=\"/sise/sise_group_detail.nhn?type=upjong&amp;no=310\">광고</a>,\n",
       " <a href=\"/sise/sise_group_detail.nhn?type=upjong&amp;no=265\">판매업체</a>,\n",
       " <a href=\"/sise/sise_group_detail.nhn?type=upjong&amp;no=332\">문구류</a>,\n",
       " <a href=\"/sise/sise_group_detail.nhn?type=upjong&amp;no=299\">기계</a>,\n",
       " <a href=\"/sise/sise_group_detail.nhn?type=upjong&amp;no=324\">상업서비스와공급품</a>,\n",
       " <a href=\"/sise/sise_group_detail.nhn?type=upjong&amp;no=292\">핸드셋</a>,\n",
       " <a href=\"/sise/sise_group_detail.nhn?type=upjong&amp;no=272\">화학</a>,\n",
       " <a href=\"/sise/sise_group_detail.nhn?type=upjong&amp;no=314\">출판</a>,\n",
       " <a href=\"/sise/sise_group_detail.nhn?type=upjong&amp;no=318\">종이와목재</a>,\n",
       " <a href=\"/sise/sise_group_detail.nhn?type=upjong&amp;no=282\">전자장비와기기</a>,\n",
       " <a href=\"/sise/sise_group_detail.nhn?type=upjong&amp;no=295\">에너지장비및서비스</a>,\n",
       " <a href=\"/sise/sise_group_detail.nhn?type=upjong&amp;no=308\">인터넷과카탈로그소매</a>,\n",
       " <a href=\"/sise/sise_group_detail.nhn?type=upjong&amp;no=302\">식품과기본식료품소매</a>,\n",
       " <a href=\"/sise/sise_group_detail.nhn?type=upjong&amp;no=25\">기타</a>,\n",
       " <a href=\"/sise/sise_group_detail.nhn?type=upjong&amp;no=275\">담배</a>,\n",
       " <a href=\"/sise/sise_group_detail.nhn?type=upjong&amp;no=279\">건설</a>,\n",
       " <a href=\"/sise/sise_group_detail.nhn?type=upjong&amp;no=335\">독립전력생산및에너지거래</a>,\n",
       " <a href=\"/sise/sise_group_detail.nhn?type=upjong&amp;no=326\">항공화물운송과물류</a>,\n",
       " <a href=\"/sise/sise_group_detail.nhn?type=upjong&amp;no=280\">부동산</a>,\n",
       " <a href=\"/sise/sise_group_detail.nhn?type=upjong&amp;no=327\">디스플레이패널</a>,\n",
       " <a href=\"/sise/sise_group_detail.nhn?type=upjong&amp;no=293\">컴퓨터와주변기기</a>,\n",
       " <a href=\"/sise/sise_group_detail.nhn?type=upjong&amp;no=266\">화장품</a>,\n",
       " <a href=\"/sise/sise_group_detail.nhn?type=upjong&amp;no=322\">비철금속</a>,\n",
       " <a href=\"/sise/sise_group_detail.nhn?type=upjong&amp;no=306\">전기장비</a>,\n",
       " <a href=\"/sise/sise_group_detail.nhn?type=upjong&amp;no=269\">디스플레이장비및부품</a>,\n",
       " <a href=\"/sise/sise_group_detail.nhn?type=upjong&amp;no=268\">식품</a>,\n",
       " <a href=\"/sise/sise_group_detail.nhn?type=upjong&amp;no=331\">복합유틸리티</a>,\n",
       " <a href=\"/sise/sise_group_detail.nhn?type=upjong&amp;no=277\">창업투자</a>,\n",
       " <a href=\"/sise/sise_group_detail.nhn?type=upjong&amp;no=304\">철강</a>,\n",
       " <a href=\"/sise/sise_group_detail.nhn?type=upjong&amp;no=311\">포장재</a>,\n",
       " <a href=\"/sise/sise_group_detail.nhn?type=upjong&amp;no=336\">다각화된통신서비스</a>,\n",
       " <a href=\"/sise/sise_group_detail.nhn?type=upjong&amp;no=284\">우주항공과국방</a>,\n",
       " <a href=\"/sise/sise_group_detail.nhn?type=upjong&amp;no=305\">항공사</a>,\n",
       " <a href=\"/sise/sise_group_detail.nhn?type=upjong&amp;no=270\">자동차부품</a>,\n",
       " <a href=\"/sise/sise_group_detail.nhn?type=upjong&amp;no=329\">도로와철도운송</a>,\n",
       " <a href=\"/sise/sise_group_detail.nhn?type=upjong&amp;no=337\">카드</a>,\n",
       " <a href=\"/sise/sise_group_detail.nhn?type=upjong&amp;no=296\">운송인프라</a>,\n",
       " <a href=\"/sise/sise_group_detail.nhn?type=upjong&amp;no=271\">레저용장비와제품</a>,\n",
       " <a href=\"/sise/sise_group_detail.nhn?type=upjong&amp;no=330\">생명보험</a>,\n",
       " <a href=\"/sise/sise_group_detail.nhn?type=upjong&amp;no=317\">호텔,레스토랑,레저</a>,\n",
       " <a href=\"/sise/sise_group_detail.nhn?type=upjong&amp;no=338\">사무용전자제품</a>,\n",
       " <a href=\"/sise/sise_group_detail.nhn?type=upjong&amp;no=307\">전자제품</a>,\n",
       " <a href=\"/sise/sise_group_detail.nhn?type=upjong&amp;no=315\">손해보험</a>,\n",
       " <a href=\"/sise/sise_group_detail.nhn?type=upjong&amp;no=278\">반도체와반도체장비</a>,\n",
       " <a href=\"/sise/sise_group_detail.nhn?type=upjong&amp;no=312\">가스유틸리티</a>,\n",
       " <a href=\"/sise/sise_group_detail.nhn?type=upjong&amp;no=294\">통신장비</a>,\n",
       " <a href=\"/sise/sise_group_detail.nhn?type=upjong&amp;no=274\">섬유,의류,신발,호화품</a>,\n",
       " <a href=\"/sise/sise_group_detail.nhn?type=upjong&amp;no=289\">건축자재</a>,\n",
       " <a href=\"/sise/sise_group_detail.nhn?type=upjong&amp;no=325\">전기유틸리티</a>,\n",
       " <a href=\"/sise/sise_group_detail.nhn?type=upjong&amp;no=319\">기타금융</a>,\n",
       " <a href=\"/sise/sise_group_detail.nhn?type=upjong&amp;no=291\">조선</a>,\n",
       " <a href=\"/sise/sise_group_detail.nhn?type=upjong&amp;no=290\">교육서비스</a>,\n",
       " <a href=\"/sise/sise_group_detail.nhn?type=upjong&amp;no=321\">증권</a>,\n",
       " <a href=\"/sise/sise_group_detail.nhn?type=upjong&amp;no=301\">은행</a>,\n",
       " <a href=\"/sise/sise_group_detail.nhn?type=upjong&amp;no=300\">양방향미디어와서비스</a>,\n",
       " <a href=\"/sise/sise_group_detail.nhn?type=upjong&amp;no=309\">음료</a>,\n",
       " <a href=\"/sise/sise_group_detail.nhn?type=upjong&amp;no=276\">복합기업</a>,\n",
       " <a href=\"/sise/sise_group_detail.nhn?type=upjong&amp;no=264\">백화점과일반상점</a>,\n",
       " <a href=\"/sise/sise_group_detail.nhn?type=upjong&amp;no=333\">무선통신서비스</a>,\n",
       " <a href=\"/sise/sise_group_detail.nhn?type=upjong&amp;no=328\">전문소매</a>,\n",
       " <a href=\"/sise/sise_group_detail.nhn?type=upjong&amp;no=313\">석유와가스</a>,\n",
       " <a class=\"company\" href=\"/item/main.nhn?code=005930\" onclick=\"clickcr(this, 'rpk.list', '005930', '1', event);\">삼성전자</a>,\n",
       " <a class=\"company\" href=\"/item/main.nhn?code=096770\" onclick=\"clickcr(this, 'rpk.list', '096770', '2', event);\">SK이노베이션</a>,\n",
       " <a class=\"company\" href=\"/item/main.nhn?code=035720\" onclick=\"clickcr(this, 'rpk.list', '035720', '3', event);\">카카오</a>,\n",
       " <a class=\"company\" href=\"/item/main.nhn?code=139670\" onclick=\"clickcr(this, 'rpk.list', '139670', '4', event);\">키네마스터</a>,\n",
       " <a class=\"company\" href=\"/item/main.nhn?code=006400\" onclick=\"clickcr(this, 'rpk.list', '006400', '5', event);\">삼성SDI</a>]"
      ]
     },
     "execution_count": 16,
     "metadata": {},
     "output_type": "execute_result"
    }
   ],
   "source": [
    "# 목표로 하는 요소가 들어있는 태그를 순차적으로 적어 셀렉트, class가 있으면 더 정확하게 셀렉트 할 수 있다.(ex:td.username)\n",
    "my_titles = soup.select('table td a')\n",
    "my_titles"
   ]
  },
  {
   "cell_type": "code",
   "execution_count": 19,
   "id": "54c72a77",
   "metadata": {},
   "outputs": [],
   "source": [
    "# 반복문으로 my_titles에서 원하는 데이터를 추출\n",
    "links = []\n",
    "names = []\n",
    "\n",
    "for i in my_titles:\n",
    "    links.append(i['href'])\n",
    "    names.append(i.string)\n"
   ]
  }
 ],
 "metadata": {
  "kernelspec": {
   "display_name": "Python 3",
   "language": "python",
   "name": "python3"
  },
  "language_info": {
   "codemirror_mode": {
    "name": "ipython",
    "version": 3
   },
   "file_extension": ".py",
   "mimetype": "text/x-python",
   "name": "python",
   "nbconvert_exporter": "python",
   "pygments_lexer": "ipython3",
   "version": "3.8.8"
  }
 },
 "nbformat": 4,
 "nbformat_minor": 5
}
